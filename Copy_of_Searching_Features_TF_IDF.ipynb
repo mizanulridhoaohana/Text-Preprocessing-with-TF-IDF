{
  "cells": [
    {
      "cell_type": "markdown",
      "metadata": {
        "id": "lvB_7Ir9kQDo"
      },
      "source": [
        "# Tugas Preprocessing Dataset\n",
        "\n",
        "## Input\n",
        "\n",
        "\n",
        "## Output\n",
        "list tempat\n",
        "contoh :\n",
        "1. Candi Borobudur\n",
        "2. Candi Prambanan\n",
        "3. Tugu Yogyakarta\n",
        "4. Malioboro\n",
        "5. Alun-alun selatan"
      ]
    },
    {
      "cell_type": "markdown",
      "metadata": {
        "id": "rSJp81dko9WE"
      },
      "source": [
        "---"
      ]
    },
    {
      "cell_type": "markdown",
      "metadata": {
        "id": "9X-556g7pqOf"
      },
      "source": [
        "Dataset Source : https://www.kaggle.com/datasets/aprabowo/indonesia-tourism-destination"
      ]
    },
    {
      "cell_type": "code",
      "execution_count": 1,
      "metadata": {
        "id": "VUDH-c_BpSVN"
      },
      "outputs": [],
      "source": [
        "import pandas as pd\n",
        "# import tensorflow as tf\n",
        "import matplotlib.pyplot as plt\n",
        "import numpy as np\n"
      ]
    },
    {
      "cell_type": "code",
      "execution_count": 2,
      "metadata": {
        "colab": {
          "base_uri": "https://localhost:8080/"
        },
        "id": "Vb-DVTyCjRa_",
        "outputId": "e46e0b5a-1946-4fe9-bd27-e6a22e8568f0"
      },
      "outputs": [
        {
          "ename": "ModuleNotFoundError",
          "evalue": "No module named 'google.colab'",
          "output_type": "error",
          "traceback": [
            "\u001b[1;31m---------------------------------------------------------------------------\u001b[0m",
            "\u001b[1;31mModuleNotFoundError\u001b[0m                       Traceback (most recent call last)",
            "\u001b[1;32mC:\\Users\\CATURW~1\\AppData\\Local\\Temp/ipykernel_24852/3695485132.py\u001b[0m in \u001b[0;36m<module>\u001b[1;34m\u001b[0m\n\u001b[1;32m----> 1\u001b[1;33m \u001b[1;32mfrom\u001b[0m \u001b[0mgoogle\u001b[0m\u001b[1;33m.\u001b[0m\u001b[0mcolab\u001b[0m \u001b[1;32mimport\u001b[0m \u001b[0mdrive\u001b[0m\u001b[1;33m\u001b[0m\u001b[1;33m\u001b[0m\u001b[0m\n\u001b[0m\u001b[0;32m      2\u001b[0m \u001b[0mdrive\u001b[0m\u001b[1;33m.\u001b[0m\u001b[0mmount\u001b[0m\u001b[1;33m(\u001b[0m\u001b[1;34m'/content/drive'\u001b[0m\u001b[1;33m)\u001b[0m\u001b[1;33m\u001b[0m\u001b[1;33m\u001b[0m\u001b[0m\n",
            "\u001b[1;31mModuleNotFoundError\u001b[0m: No module named 'google.colab'"
          ]
        }
      ],
      "source": [
        "\n",
        "\n",
        "\n",
        "# from google.colab import drive\n",
        "# drive.mount('/content/drive')"
      ]
    },
    {
      "cell_type": "code",
      "execution_count": 3,
      "metadata": {
        "colab": {
          "base_uri": "https://localhost:8080/",
          "height": 206
        },
        "id": "vjsP1Z7ZtZf9",
        "outputId": "f1694158-6718-4f91-ef99-4d0154157127"
      },
      "outputs": [
        {
          "data": {
            "text/html": [
              "<div>\n",
              "<style scoped>\n",
              "    .dataframe tbody tr th:only-of-type {\n",
              "        vertical-align: middle;\n",
              "    }\n",
              "\n",
              "    .dataframe tbody tr th {\n",
              "        vertical-align: top;\n",
              "    }\n",
              "\n",
              "    .dataframe thead th {\n",
              "        text-align: right;\n",
              "    }\n",
              "</style>\n",
              "<table border=\"1\" class=\"dataframe\">\n",
              "  <thead>\n",
              "    <tr style=\"text-align: right;\">\n",
              "      <th></th>\n",
              "      <th>label</th>\n",
              "      <th>review</th>\n",
              "    </tr>\n",
              "  </thead>\n",
              "  <tbody>\n",
              "    <tr>\n",
              "      <th>0</th>\n",
              "      <td>positif</td>\n",
              "      <td>Layar handphone ini sangat impresif dengan res...</td>\n",
              "    </tr>\n",
              "    <tr>\n",
              "      <th>1</th>\n",
              "      <td>positif</td>\n",
              "      <td>Fitur kamera depan dengan mode potret yang dis...</td>\n",
              "    </tr>\n",
              "    <tr>\n",
              "      <th>2</th>\n",
              "      <td>positif</td>\n",
              "      <td>Kecepatan prosesor yang tinggi pada handphone...</td>\n",
              "    </tr>\n",
              "    <tr>\n",
              "      <th>3</th>\n",
              "      <td>positif</td>\n",
              "      <td>Baterai handphone ini memiliki kapasitas yang ...</td>\n",
              "    </tr>\n",
              "    <tr>\n",
              "      <th>4</th>\n",
              "      <td>positif</td>\n",
              "      <td>Keamanan handphone ini sangat baik berkat peng...</td>\n",
              "    </tr>\n",
              "  </tbody>\n",
              "</table>\n",
              "</div>"
            ],
            "text/plain": [
              "      label                                             review\n",
              "0  positif   Layar handphone ini sangat impresif dengan res...\n",
              "1   positif  Fitur kamera depan dengan mode potret yang dis...\n",
              "2   positif   Kecepatan prosesor yang tinggi pada handphone...\n",
              "3   positif  Baterai handphone ini memiliki kapasitas yang ...\n",
              "4   positif  Keamanan handphone ini sangat baik berkat peng..."
            ]
          },
          "execution_count": 3,
          "metadata": {},
          "output_type": "execute_result"
        }
      ],
      "source": [
        "review_handphone = pd.read_csv('review_handphone3.csv')\n",
        "\n",
        "# print(review_handphone.columns)\n",
        "review_handphone.head()\n"
      ]
    },
    {
      "cell_type": "code",
      "execution_count": 4,
      "metadata": {
        "id": "wVgQhAPVn7Em"
      },
      "outputs": [],
      "source": [
        "#case folding\n",
        "for i in range(len(review_handphone)):\n",
        "  review_handphone['label'][i] = review_handphone['label'][i].lower()\n",
        "  review_handphone['review'][i] = review_handphone['review'][i].lower()\n",
        "  # merged_wisata['facilities'][i] = merged_wisata['facilities'][i].lower()\n",
        "  # merged_wisata['category'][i] = merged_wisata['category'][i].lower()\n",
        "  # merged_wisata['description'][i] = merged_wisata['description'][i].lower()\n",
        "  # merged_wisata['tag'][i] = merged_wisata['tag'][i].lower()\n",
        "  # merged_wisata['jenis'][i] = merged_wisata['jenis'][i].lower()"
      ]
    },
    {
      "cell_type": "code",
      "execution_count": 5,
      "metadata": {
        "colab": {
          "base_uri": "https://localhost:8080/"
        },
        "id": "gnAoK1f2sZ3w",
        "outputId": "5d724d99-97e0-49c0-a905-5e6fa828e458"
      },
      "outputs": [
        {
          "data": {
            "text/plain": [
              "0     layar handphone ini sangat impresif dengan res...\n",
              "1     fitur kamera depan dengan mode potret yang dis...\n",
              "2      kecepatan prosesor yang tinggi pada handphone...\n",
              "3     baterai handphone ini memiliki kapasitas yang ...\n",
              "4     keamanan handphone ini sangat baik berkat peng...\n",
              "5     handphone ini memiliki fitur pengisian daya ni...\n",
              "6      suara dari speaker stereo pada handphone ini ...\n",
              "7     desain fisik handphone ini sangat elegan dan r...\n",
              "8     antarmuka pengguna yang intuitif membuat navig...\n",
              "9     sinyal jaringan seluler pada handphone ini san...\n",
              "10    handphone ini memiliki masalah serius dengan d...\n",
              "11    sinyal jaringan seluler pada handphone ini ser...\n",
              "12     kamera belakang pada handphone ini menghasilk...\n",
              "13    prosesor handphone ini sering kali mengalami l...\n",
              "14    desain antarmuka pengguna handphone ini sangat...\n",
              "Name: review, dtype: object"
            ]
          },
          "execution_count": 5,
          "metadata": {},
          "output_type": "execute_result"
        }
      ],
      "source": [
        "review_handphone['review']"
      ]
    },
    {
      "cell_type": "code",
      "execution_count": 6,
      "metadata": {
        "colab": {
          "base_uri": "https://localhost:8080/"
        },
        "id": "_pAOFmhvkdKG",
        "outputId": "43c45d0c-86b4-4ec1-8193-7df9da3b878c"
      },
      "outputs": [
        {
          "name": "stdout",
          "output_type": "stream",
          "text": [
            "Collecting Sastrawi\n",
            "  Downloading Sastrawi-1.0.1-py2.py3-none-any.whl (209 kB)\n",
            "Installing collected packages: Sastrawi\n",
            "Successfully installed Sastrawi-1.0.1\n"
          ]
        }
      ],
      "source": [
        "!pip install Sastrawi"
      ]
    },
    {
      "cell_type": "code",
      "execution_count": 7,
      "metadata": {
        "colab": {
          "base_uri": "https://localhost:8080/"
        },
        "id": "JbioWdTEsyQp",
        "outputId": "b7b4fe4a-af34-4818-e285-5c0fa3747276"
      },
      "outputs": [
        {
          "name": "stderr",
          "output_type": "stream",
          "text": [
            "[nltk_data] Downloading collection 'book'\n",
            "[nltk_data]    | \n",
            "[nltk_data]    | Downloading package abc to C:\\Users\\CATURWARGA\n",
            "[nltk_data]    |     COMPUTER\\AppData\\Roaming\\nltk_data...\n",
            "[nltk_data]    |   Unzipping corpora\\abc.zip.\n",
            "[nltk_data]    | Downloading package brown to C:\\Users\\CATURWARGA\n",
            "[nltk_data]    |     COMPUTER\\AppData\\Roaming\\nltk_data...\n",
            "[nltk_data]    |   Unzipping corpora\\brown.zip.\n",
            "[nltk_data]    | Downloading package chat80 to C:\\Users\\CATURWARGA\n",
            "[nltk_data]    |     COMPUTER\\AppData\\Roaming\\nltk_data...\n",
            "[nltk_data]    |   Unzipping corpora\\chat80.zip.\n",
            "[nltk_data]    | Downloading package cmudict to C:\\Users\\CATURWARGA\n",
            "[nltk_data]    |     COMPUTER\\AppData\\Roaming\\nltk_data...\n",
            "[nltk_data]    |   Unzipping corpora\\cmudict.zip.\n",
            "[nltk_data]    | Downloading package conll2000 to C:\\Users\\CATURWARGA\n",
            "[nltk_data]    |     COMPUTER\\AppData\\Roaming\\nltk_data...\n",
            "[nltk_data]    |   Unzipping corpora\\conll2000.zip.\n",
            "[nltk_data]    | Downloading package conll2002 to C:\\Users\\CATURWARGA\n",
            "[nltk_data]    |     COMPUTER\\AppData\\Roaming\\nltk_data...\n",
            "[nltk_data]    |   Unzipping corpora\\conll2002.zip.\n",
            "[nltk_data]    | Downloading package dependency_treebank to\n",
            "[nltk_data]    |     C:\\Users\\CATURWARGA\n",
            "[nltk_data]    |     COMPUTER\\AppData\\Roaming\\nltk_data...\n",
            "[nltk_data]    |   Unzipping corpora\\dependency_treebank.zip.\n",
            "[nltk_data]    | Downloading package genesis to C:\\Users\\CATURWARGA\n",
            "[nltk_data]    |     COMPUTER\\AppData\\Roaming\\nltk_data...\n",
            "[nltk_data]    |   Unzipping corpora\\genesis.zip.\n",
            "[nltk_data]    | Downloading package gutenberg to C:\\Users\\CATURWARGA\n",
            "[nltk_data]    |     COMPUTER\\AppData\\Roaming\\nltk_data...\n",
            "[nltk_data]    |   Unzipping corpora\\gutenberg.zip.\n",
            "[nltk_data]    | Downloading package ieer to C:\\Users\\CATURWARGA\n",
            "[nltk_data]    |     COMPUTER\\AppData\\Roaming\\nltk_data...\n",
            "[nltk_data]    |   Unzipping corpora\\ieer.zip.\n",
            "[nltk_data]    | Downloading package inaugural to C:\\Users\\CATURWARGA\n",
            "[nltk_data]    |     COMPUTER\\AppData\\Roaming\\nltk_data...\n",
            "[nltk_data]    |   Unzipping corpora\\inaugural.zip.\n",
            "[nltk_data]    | Downloading package movie_reviews to\n",
            "[nltk_data]    |     C:\\Users\\CATURWARGA\n",
            "[nltk_data]    |     COMPUTER\\AppData\\Roaming\\nltk_data...\n",
            "[nltk_data]    |   Unzipping corpora\\movie_reviews.zip.\n",
            "[nltk_data]    | Downloading package nps_chat to C:\\Users\\CATURWARGA\n",
            "[nltk_data]    |     COMPUTER\\AppData\\Roaming\\nltk_data...\n",
            "[nltk_data]    |   Unzipping corpora\\nps_chat.zip.\n",
            "[nltk_data]    | Downloading package names to C:\\Users\\CATURWARGA\n",
            "[nltk_data]    |     COMPUTER\\AppData\\Roaming\\nltk_data...\n",
            "[nltk_data]    |   Unzipping corpora\\names.zip.\n",
            "[nltk_data]    | Downloading package ppattach to C:\\Users\\CATURWARGA\n",
            "[nltk_data]    |     COMPUTER\\AppData\\Roaming\\nltk_data...\n",
            "[nltk_data]    |   Unzipping corpora\\ppattach.zip.\n",
            "[nltk_data]    | Downloading package reuters to C:\\Users\\CATURWARGA\n",
            "[nltk_data]    |     COMPUTER\\AppData\\Roaming\\nltk_data...\n",
            "[nltk_data]    | Downloading package senseval to C:\\Users\\CATURWARGA\n",
            "[nltk_data]    |     COMPUTER\\AppData\\Roaming\\nltk_data...\n",
            "[nltk_data]    |   Unzipping corpora\\senseval.zip.\n",
            "[nltk_data]    | Downloading package state_union to\n",
            "[nltk_data]    |     C:\\Users\\CATURWARGA\n",
            "[nltk_data]    |     COMPUTER\\AppData\\Roaming\\nltk_data...\n",
            "[nltk_data]    |   Unzipping corpora\\state_union.zip.\n",
            "[nltk_data]    | Downloading package stopwords to C:\\Users\\CATURWARGA\n",
            "[nltk_data]    |     COMPUTER\\AppData\\Roaming\\nltk_data...\n",
            "[nltk_data]    |   Unzipping corpora\\stopwords.zip.\n",
            "[nltk_data]    | Downloading package swadesh to C:\\Users\\CATURWARGA\n",
            "[nltk_data]    |     COMPUTER\\AppData\\Roaming\\nltk_data...\n",
            "[nltk_data]    |   Unzipping corpora\\swadesh.zip.\n",
            "[nltk_data]    | Downloading package timit to C:\\Users\\CATURWARGA\n",
            "[nltk_data]    |     COMPUTER\\AppData\\Roaming\\nltk_data...\n",
            "[nltk_data]    |   Unzipping corpora\\timit.zip.\n",
            "[nltk_data]    | Downloading package treebank to C:\\Users\\CATURWARGA\n",
            "[nltk_data]    |     COMPUTER\\AppData\\Roaming\\nltk_data...\n",
            "[nltk_data]    |   Unzipping corpora\\treebank.zip.\n",
            "[nltk_data]    | Downloading package toolbox to C:\\Users\\CATURWARGA\n",
            "[nltk_data]    |     COMPUTER\\AppData\\Roaming\\nltk_data...\n",
            "[nltk_data]    |   Unzipping corpora\\toolbox.zip.\n",
            "[nltk_data]    | Downloading package udhr to C:\\Users\\CATURWARGA\n",
            "[nltk_data]    |     COMPUTER\\AppData\\Roaming\\nltk_data...\n",
            "[nltk_data]    |   Unzipping corpora\\udhr.zip.\n",
            "[nltk_data]    | Downloading package udhr2 to C:\\Users\\CATURWARGA\n",
            "[nltk_data]    |     COMPUTER\\AppData\\Roaming\\nltk_data...\n",
            "[nltk_data]    |   Unzipping corpora\\udhr2.zip.\n",
            "[nltk_data]    | Downloading package unicode_samples to\n",
            "[nltk_data]    |     C:\\Users\\CATURWARGA\n",
            "[nltk_data]    |     COMPUTER\\AppData\\Roaming\\nltk_data...\n",
            "[nltk_data]    |   Unzipping corpora\\unicode_samples.zip.\n",
            "[nltk_data]    | Downloading package webtext to C:\\Users\\CATURWARGA\n",
            "[nltk_data]    |     COMPUTER\\AppData\\Roaming\\nltk_data...\n",
            "[nltk_data]    |   Unzipping corpora\\webtext.zip.\n",
            "[nltk_data]    | Downloading package wordnet to C:\\Users\\CATURWARGA\n",
            "[nltk_data]    |     COMPUTER\\AppData\\Roaming\\nltk_data...\n",
            "[nltk_data]    | Downloading package wordnet_ic to C:\\Users\\CATURWARGA\n",
            "[nltk_data]    |     COMPUTER\\AppData\\Roaming\\nltk_data...\n",
            "[nltk_data]    |   Unzipping corpora\\wordnet_ic.zip.\n",
            "[nltk_data]    | Downloading package words to C:\\Users\\CATURWARGA\n",
            "[nltk_data]    |     COMPUTER\\AppData\\Roaming\\nltk_data...\n",
            "[nltk_data]    |   Unzipping corpora\\words.zip.\n",
            "[nltk_data]    | Downloading package maxent_treebank_pos_tagger to\n",
            "[nltk_data]    |     C:\\Users\\CATURWARGA\n",
            "[nltk_data]    |     COMPUTER\\AppData\\Roaming\\nltk_data...\n",
            "[nltk_data]    |   Unzipping taggers\\maxent_treebank_pos_tagger.zip.\n",
            "[nltk_data]    | Downloading package maxent_ne_chunker to\n",
            "[nltk_data]    |     C:\\Users\\CATURWARGA\n",
            "[nltk_data]    |     COMPUTER\\AppData\\Roaming\\nltk_data...\n",
            "[nltk_data]    |   Unzipping chunkers\\maxent_ne_chunker.zip.\n",
            "[nltk_data]    | Downloading package universal_tagset to\n",
            "[nltk_data]    |     C:\\Users\\CATURWARGA\n",
            "[nltk_data]    |     COMPUTER\\AppData\\Roaming\\nltk_data...\n",
            "[nltk_data]    |   Unzipping taggers\\universal_tagset.zip.\n",
            "[nltk_data]    | Downloading package punkt to C:\\Users\\CATURWARGA\n",
            "[nltk_data]    |     COMPUTER\\AppData\\Roaming\\nltk_data...\n",
            "[nltk_data]    |   Unzipping tokenizers\\punkt.zip.\n",
            "[nltk_data]    | Downloading package book_grammars to\n",
            "[nltk_data]    |     C:\\Users\\CATURWARGA\n",
            "[nltk_data]    |     COMPUTER\\AppData\\Roaming\\nltk_data...\n",
            "[nltk_data]    |   Unzipping grammars\\book_grammars.zip.\n",
            "[nltk_data]    | Downloading package city_database to\n",
            "[nltk_data]    |     C:\\Users\\CATURWARGA\n",
            "[nltk_data]    |     COMPUTER\\AppData\\Roaming\\nltk_data...\n",
            "[nltk_data]    |   Unzipping corpora\\city_database.zip.\n",
            "[nltk_data]    | Downloading package tagsets to C:\\Users\\CATURWARGA\n",
            "[nltk_data]    |     COMPUTER\\AppData\\Roaming\\nltk_data...\n",
            "[nltk_data]    |   Unzipping help\\tagsets.zip.\n",
            "[nltk_data]    | Downloading package panlex_swadesh to\n",
            "[nltk_data]    |     C:\\Users\\CATURWARGA\n",
            "[nltk_data]    |     COMPUTER\\AppData\\Roaming\\nltk_data...\n",
            "[nltk_data]    | Downloading package averaged_perceptron_tagger to\n",
            "[nltk_data]    |     C:\\Users\\CATURWARGA\n",
            "[nltk_data]    |     COMPUTER\\AppData\\Roaming\\nltk_data...\n",
            "[nltk_data]    |   Unzipping taggers\\averaged_perceptron_tagger.zip.\n",
            "[nltk_data]    | \n",
            "[nltk_data]  Done downloading collection book\n"
          ]
        },
        {
          "data": {
            "text/plain": [
              "True"
            ]
          },
          "execution_count": 7,
          "metadata": {},
          "output_type": "execute_result"
        }
      ],
      "source": [
        "import nltk\n",
        "nltk.download(\"book\")"
      ]
    },
    {
      "cell_type": "code",
      "execution_count": 8,
      "metadata": {
        "id": "BxLk-Na3s6zO"
      },
      "outputs": [],
      "source": [
        "from nltk.corpus import stopwords\n",
        "from Sastrawi.Stemmer.StemmerFactory import StemmerFactory"
      ]
    },
    {
      "cell_type": "code",
      "execution_count": 9,
      "metadata": {
        "id": "Xo-QZc_5vJBH"
      },
      "outputs": [],
      "source": [
        "def ganti_isi_column(merged_wisata,merged_wisata_review):\n",
        "  for i in range(len(merged_wisata)) :\n",
        "    merged_wisata[i] = merged_wisata_review[i]\n",
        "  print(merged_wisata)"
      ]
    },
    {
      "cell_type": "code",
      "execution_count": 10,
      "metadata": {
        "id": "G54r0KiesCOZ"
      },
      "outputs": [],
      "source": [
        "def preprocessing(document_to_be_scored):\n",
        "  pisah = {}\n",
        "  for i in range(len(document_to_be_scored)):\n",
        "    pisah[i] = document_to_be_scored[i].split() #melakukan split\n",
        "\n",
        "  #menghilangkan stopword memakai library nltk\n",
        "  stopword=['wisata']#list stopword\n",
        "\n",
        "  removed = {}\n",
        "  hasil = []\n",
        "  listStopword = stopwords.words('indonesian') #list stopword\n",
        "\n",
        "  #tambahkan stopword\n",
        "  for i in stopword:\n",
        "    listStopword.append(i)\n",
        "  # print(listStopword)\n",
        "\n",
        "  # listStopword = set(stopwords.words('indonesian')) #list stopword\n",
        "  hitung = 0 #untuk menghitung frekuensi\n",
        "  for i in pisah.values():\n",
        "    for j in i:\n",
        "      if j not in listStopword:#jika setiap kata tidak ada di list stopword\n",
        "        hasil.append(j)\n",
        "    removed[hitung] = hasil[:]\n",
        "    del hasil[:]\n",
        "    hitung=hitung+1\n",
        "\n",
        "  #memakai library sastarawi\n",
        "  #memakai library sastrawi untuk melakukan stemming\n",
        "  factory = StemmerFactory() #membuat objek stemmer\n",
        "  stemmer = factory.create_stemmer()\n",
        "  hitung = 0\n",
        "\n",
        "  hasil=[]\n",
        "  hasil2 = {}\n",
        "\n",
        "  for i in removed.values():\n",
        "    for j in i:\n",
        "      hasil.append(stemmer.stem(j))#hasil stemming\n",
        "    hasil2[hitung] = hasil[:]\n",
        "    del hasil[:]\n",
        "    hitung = hitung+1\n",
        "  hasil =\"\"\n",
        "  korpus2 =[]\n",
        "  for i in hasil2.values():\n",
        "    hasil =\"\"\n",
        "    for j in i:\n",
        "      hasil = hasil+ \" \" +j\n",
        "    korpus2.append(hasil)\n",
        "  ganti_isi_column(document_to_be_scored,korpus2)#timpa hasil\n",
        "\n"
      ]
    },
    {
      "cell_type": "code",
      "execution_count": 11,
      "metadata": {
        "id": "vDIhLEoU2XZ5"
      },
      "outputs": [
        {
          "ename": "NameError",
          "evalue": "name 'merged_wisata' is not defined",
          "output_type": "error",
          "traceback": [
            "\u001b[1;31m---------------------------------------------------------------------------\u001b[0m",
            "\u001b[1;31mNameError\u001b[0m                                 Traceback (most recent call last)",
            "\u001b[1;32mC:\\Users\\CATURW~1\\AppData\\Local\\Temp/ipykernel_24852/1088665193.py\u001b[0m in \u001b[0;36m<module>\u001b[1;34m\u001b[0m\n\u001b[1;32m----> 1\u001b[1;33m \u001b[0mmerged_wisata_prep\u001b[0m\u001b[1;33m=\u001b[0m\u001b[0mmerged_wisata\u001b[0m\u001b[1;33m.\u001b[0m\u001b[0mcopy\u001b[0m\u001b[1;33m(\u001b[0m\u001b[1;33m)\u001b[0m\u001b[1;33m\u001b[0m\u001b[1;33m\u001b[0m\u001b[0m\n\u001b[0m",
            "\u001b[1;31mNameError\u001b[0m: name 'merged_wisata' is not defined"
          ]
        }
      ],
      "source": [
        "merged_wisata_prep=merged_wisata.copy()"
      ]
    },
    {
      "cell_type": "code",
      "execution_count": 12,
      "metadata": {
        "colab": {
          "base_uri": "https://localhost:8080/"
        },
        "id": "2JYulT4Vtr3_",
        "outputId": "9b725bbb-fc6e-4a03-cd8f-37ba2a43980c"
      },
      "outputs": [
        {
          "name": "stdout",
          "output_type": "stream",
          "text": [
            "0      layar handphone impresif resolusi warna hidup...\n",
            "1      fitur kamera mode potret sempurna guna ambil ...\n",
            "2      cepat prosesor handphone multitasking lancar ...\n",
            "3      baterai handphone milik kapasitas besar guna ...\n",
            "4      aman handphone berkat kenal wajah pindai sidi...\n",
            "5      handphone milik fitur isi daya nirkabel nyama...\n",
            "6      suara speaker stereo handphone jernih imbang ...\n",
            "7      desain fisik handphone elegan ramping bingkai...\n",
            "8      antarmuka guna intuitif navigasi atur handpho...\n",
            "9      sinyal jaring seluler handphone kuat area cen...\n",
            "10     handphone milik serius daya tahan baterai bat...\n",
            "11     sinyal jaring seluler handphone kali lemah al...\n",
            "12     kamera handphone hasil gambar buram kualitas ...\n",
            "13     prosesor handphone kali alami lag kerja lamba...\n",
            "14     desain antarmuka guna handphone rumit intuiti...\n",
            "Name: review, dtype: object\n"
          ]
        }
      ],
      "source": [
        "# preprocessing(merged_wisata_prep['description'])\n",
        "preprocessing(review_handphone['review'])"
      ]
    },
    {
      "cell_type": "code",
      "execution_count": 13,
      "metadata": {
        "colab": {
          "base_uri": "https://localhost:8080/"
        },
        "id": "GY5RS8voWdfJ",
        "outputId": "962237a7-34cc-4bf6-a6ab-c314b7711921"
      },
      "outputs": [
        {
          "data": {
            "text/plain": [
              "0      layar handphone impresif resolusi warna hidup...\n",
              "1      fitur kamera mode potret sempurna guna ambil ...\n",
              "2      cepat prosesor handphone multitasking lancar ...\n",
              "3      baterai handphone milik kapasitas besar guna ...\n",
              "4      aman handphone berkat kenal wajah pindai sidi...\n",
              "5      handphone milik fitur isi daya nirkabel nyama...\n",
              "6      suara speaker stereo handphone jernih imbang ...\n",
              "7      desain fisik handphone elegan ramping bingkai...\n",
              "8      antarmuka guna intuitif navigasi atur handpho...\n",
              "9      sinyal jaring seluler handphone kuat area cen...\n",
              "10     handphone milik serius daya tahan baterai bat...\n",
              "11     sinyal jaring seluler handphone kali lemah al...\n",
              "12     kamera handphone hasil gambar buram kualitas ...\n",
              "13     prosesor handphone kali alami lag kerja lamba...\n",
              "14     desain antarmuka guna handphone rumit intuiti...\n",
              "Name: review, dtype: object"
            ]
          },
          "execution_count": 13,
          "metadata": {},
          "output_type": "execute_result"
        }
      ],
      "source": [
        "review_handphone['review']"
      ]
    },
    {
      "cell_type": "code",
      "execution_count": 34,
      "metadata": {
        "colab": {
          "base_uri": "https://localhost:8080/"
        },
        "id": "jaGVL74l0SI3",
        "outputId": "2471aeb3-3b05-46c7-d99a-d4e0f29d6cfe"
      },
      "outputs": [
        {
          "name": "stdout",
          "output_type": "stream",
          "text": [
            "Unique Token:\n",
            "['alam', 'alami', 'aman', 'ambil', 'andal', 'antarmuka', 'aplikasi', 'area', 'atur', 'baterai', 'berat', 'berkat', 'besar', 'bingkai', 'buat', 'buram', 'cahaya', 'cakup', 'cenderung', 'cepat', 'data', 'daya', 'dengar', 'desain', 'ekspektasi', 'elegan', 'fisik', 'fitur', 'foto', 'gambar', 'game', 'genggam', 'guna', 'habis', 'handphone', 'hari', 'hasil', 'hidup', 'imbang', 'impresif', 'intuitif', 'isi', 'jadi', 'jalan', 'jari', 'jaring', 'jernih', 'kabel', 'kali', 'kamera', 'kapasitas', 'kenal', 'kerja', 'kondisi', 'kualitas', 'kuat', 'lag', 'lambat', 'lancar', 'layar', 'lemah', 'main', 'mikat', 'milik', 'mode', 'mudah', 'multitasking', 'musik', 'navigasi', 'nirkabel', 'normal', 'nyaman', 'panggil', 'perangkat', 'pindai', 'potret', 'prosesor', 'putus', 'ramping', 'rendah', 'repot', 'resolusi', 'responsif', 'rumit', 'selfie', 'seluler', 'sempurna', 'sensitif', 'serius', 'sidik', 'simpan', 'sinyal', 'speaker', 'stereo', 'suara', 'tahan', 'tajam', 'tipis', 'tonton', 'video', 'wajah', 'warna']\n",
            "\n",
            "Iterasi pada setiap data:\n",
            "Data Ke- 1 : ['layar', 'handphone', 'impresif', 'resolusi', 'warna', 'hidup', 'alam', 'tonton', 'video', 'main', 'game', 'mikat']\n",
            "Data Ke- 2 : ['fitur', 'kamera', 'mode', 'potret', 'sempurna', 'guna', 'ambil', 'foto', 'selfie', 'tajam', 'kualitas']\n",
            "Data Ke- 3 : ['cepat', 'prosesor', 'handphone', 'multitasking', 'lancar', 'kerja', 'responsif', 'jalan', 'aplikasi', 'berat']\n",
            "Data Ke- 4 : ['baterai', 'handphone', 'milik', 'kapasitas', 'besar', 'guna', 'perangkat', 'isi', 'daya']\n",
            "Data Ke- 5 : ['aman', 'handphone', 'berkat', 'kenal', 'wajah', 'pindai', 'sidik', 'jari', 'cepat', 'jadi', 'aman', 'simpan', 'data', 'sensitif']\n",
            "Data Ke- 6 : ['handphone', 'milik', 'fitur', 'isi', 'daya', 'nirkabel', 'nyaman', 'repot', 'kabel', 'isi', 'daya']\n",
            "Data Ke- 7 : ['suara', 'speaker', 'stereo', 'handphone', 'jernih', 'imbang', 'alam', 'dengar', 'musik']\n",
            "Data Ke- 8 : ['desain', 'fisik', 'handphone', 'elegan', 'ramping', 'bingkai', 'tipis', 'jadi', 'mudah', 'genggam']\n",
            "Data Ke- 9 : ['antarmuka', 'guna', 'intuitif', 'navigasi', 'atur', 'handphone', 'mudah', 'guna', 'alam']\n",
            "Data Ke- 10 : ['sinyal', 'jaring', 'seluler', 'handphone', 'kuat', 'area', 'cenderung', 'milik', 'cakup', 'lemah', 'panggil', 'putus', 'lambat']\n",
            "Data Ke- 11 : ['handphone', 'milik', 'serius', 'daya', 'tahan', 'baterai', 'baterai', 'cepat', 'habis', 'guna', 'normal', 'hari']\n",
            "Data Ke- 12 : ['sinyal', 'jaring', 'seluler', 'handphone', 'kali', 'lemah', 'alami', 'putus', 'panggil', 'buat', 'andal']\n",
            "Data Ke- 13 : ['kamera', 'handphone', 'hasil', 'gambar', 'buram', 'kualitas', 'ekspektasi', 'kondisi', 'cahaya', 'rendah']\n",
            "Data Ke- 14 : ['prosesor', 'handphone', 'kali', 'alami', 'lag', 'kerja', 'lambat', 'jalan', 'aplikasi', 'berat']\n",
            "Data Ke- 15 : ['desain', 'antarmuka', 'guna', 'handphone', 'rumit', 'intuitif', 'atur', 'navigasi', 'repot']\n",
            "\n",
            "Term Frequency:\n",
            "[1, 0, 0, 0, 0, 0, 0, 0, 0, 0, 0, 0, 0, 0, 0, 0, 0, 0, 0, 0, 0, 0, 0, 0, 0, 0, 0, 0, 0, 0, 1, 0, 0, 0, 1, 0, 0, 1, 0, 1, 0, 0, 0, 0, 0, 0, 0, 0, 0, 0, 0, 0, 0, 0, 0, 0, 0, 0, 0, 1, 0, 1, 1, 0, 0, 0, 0, 0, 0, 0, 0, 0, 0, 0, 0, 0, 0, 0, 0, 0, 0, 1, 0, 0, 0, 0, 0, 0, 0, 0, 0, 0, 0, 0, 0, 0, 0, 0, 1, 1, 0, 1]\n",
            "[0, 0, 0, 1, 0, 0, 0, 0, 0, 0, 0, 0, 0, 0, 0, 0, 0, 0, 0, 0, 0, 0, 0, 0, 0, 0, 0, 1, 1, 0, 0, 0, 1, 0, 0, 0, 0, 0, 0, 0, 0, 0, 0, 0, 0, 0, 0, 0, 0, 1, 0, 0, 0, 0, 1, 0, 0, 0, 0, 0, 0, 0, 0, 0, 1, 0, 0, 0, 0, 0, 0, 0, 0, 0, 0, 1, 0, 0, 0, 0, 0, 0, 0, 0, 1, 0, 1, 0, 0, 0, 0, 0, 0, 0, 0, 0, 1, 0, 0, 0, 0, 0]\n",
            "[0, 0, 0, 0, 0, 0, 1, 0, 0, 0, 1, 0, 0, 0, 0, 0, 0, 0, 0, 1, 0, 0, 0, 0, 0, 0, 0, 0, 0, 0, 0, 0, 0, 0, 1, 0, 0, 0, 0, 0, 0, 0, 0, 1, 0, 0, 0, 0, 0, 0, 0, 0, 1, 0, 0, 0, 0, 0, 1, 0, 0, 0, 0, 0, 0, 0, 1, 0, 0, 0, 0, 0, 0, 0, 0, 0, 1, 0, 0, 0, 0, 0, 1, 0, 0, 0, 0, 0, 0, 0, 0, 0, 0, 0, 0, 0, 0, 0, 0, 0, 0, 0]\n",
            "[0, 0, 0, 0, 0, 0, 0, 0, 0, 1, 0, 0, 1, 0, 0, 0, 0, 0, 0, 0, 0, 1, 0, 0, 0, 0, 0, 0, 0, 0, 0, 0, 1, 0, 1, 0, 0, 0, 0, 0, 0, 1, 0, 0, 0, 0, 0, 0, 0, 0, 1, 0, 0, 0, 0, 0, 0, 0, 0, 0, 0, 0, 0, 1, 0, 0, 0, 0, 0, 0, 0, 0, 0, 1, 0, 0, 0, 0, 0, 0, 0, 0, 0, 0, 0, 0, 0, 0, 0, 0, 0, 0, 0, 0, 0, 0, 0, 0, 0, 0, 0, 0]\n",
            "[0, 0, 2, 0, 0, 0, 0, 0, 0, 0, 0, 1, 0, 0, 0, 0, 0, 0, 0, 1, 1, 0, 0, 0, 0, 0, 0, 0, 0, 0, 0, 0, 0, 0, 1, 0, 0, 0, 0, 0, 0, 0, 1, 0, 1, 0, 0, 0, 0, 0, 0, 1, 0, 0, 0, 0, 0, 0, 0, 0, 0, 0, 0, 0, 0, 0, 0, 0, 0, 0, 0, 0, 0, 0, 1, 0, 0, 0, 0, 0, 0, 0, 0, 0, 0, 0, 0, 1, 0, 1, 1, 0, 0, 0, 0, 0, 0, 0, 0, 0, 1, 0]\n",
            "[0, 0, 0, 0, 0, 0, 0, 0, 0, 0, 0, 0, 0, 0, 0, 0, 0, 0, 0, 0, 0, 2, 0, 0, 0, 0, 0, 1, 0, 0, 0, 0, 0, 0, 1, 0, 0, 0, 0, 0, 0, 2, 0, 0, 0, 0, 0, 1, 0, 0, 0, 0, 0, 0, 0, 0, 0, 0, 0, 0, 0, 0, 0, 1, 0, 0, 0, 0, 0, 1, 0, 1, 0, 0, 0, 0, 0, 0, 0, 0, 1, 0, 0, 0, 0, 0, 0, 0, 0, 0, 0, 0, 0, 0, 0, 0, 0, 0, 0, 0, 0, 0]\n",
            "[1, 0, 0, 0, 0, 0, 0, 0, 0, 0, 0, 0, 0, 0, 0, 0, 0, 0, 0, 0, 0, 0, 1, 0, 0, 0, 0, 0, 0, 0, 0, 0, 0, 0, 1, 0, 0, 0, 1, 0, 0, 0, 0, 0, 0, 0, 1, 0, 0, 0, 0, 0, 0, 0, 0, 0, 0, 0, 0, 0, 0, 0, 0, 0, 0, 0, 0, 1, 0, 0, 0, 0, 0, 0, 0, 0, 0, 0, 0, 0, 0, 0, 0, 0, 0, 0, 0, 0, 0, 0, 0, 0, 1, 1, 1, 0, 0, 0, 0, 0, 0, 0]\n",
            "[0, 0, 0, 0, 0, 0, 0, 0, 0, 0, 0, 0, 0, 1, 0, 0, 0, 0, 0, 0, 0, 0, 0, 1, 0, 1, 1, 0, 0, 0, 0, 1, 0, 0, 1, 0, 0, 0, 0, 0, 0, 0, 1, 0, 0, 0, 0, 0, 0, 0, 0, 0, 0, 0, 0, 0, 0, 0, 0, 0, 0, 0, 0, 0, 0, 1, 0, 0, 0, 0, 0, 0, 0, 0, 0, 0, 0, 0, 1, 0, 0, 0, 0, 0, 0, 0, 0, 0, 0, 0, 0, 0, 0, 0, 0, 0, 0, 1, 0, 0, 0, 0]\n",
            "[1, 0, 0, 0, 0, 1, 0, 0, 1, 0, 0, 0, 0, 0, 0, 0, 0, 0, 0, 0, 0, 0, 0, 0, 0, 0, 0, 0, 0, 0, 0, 0, 2, 0, 1, 0, 0, 0, 0, 0, 1, 0, 0, 0, 0, 0, 0, 0, 0, 0, 0, 0, 0, 0, 0, 0, 0, 0, 0, 0, 0, 0, 0, 0, 0, 1, 0, 0, 1, 0, 0, 0, 0, 0, 0, 0, 0, 0, 0, 0, 0, 0, 0, 0, 0, 0, 0, 0, 0, 0, 0, 0, 0, 0, 0, 0, 0, 0, 0, 0, 0, 0]\n",
            "[0, 0, 0, 0, 0, 0, 0, 1, 0, 0, 0, 0, 0, 0, 0, 0, 0, 1, 1, 0, 0, 0, 0, 0, 0, 0, 0, 0, 0, 0, 0, 0, 0, 0, 1, 0, 0, 0, 0, 0, 0, 0, 0, 0, 0, 1, 0, 0, 0, 0, 0, 0, 0, 0, 0, 1, 0, 1, 0, 0, 1, 0, 0, 1, 0, 0, 0, 0, 0, 0, 0, 0, 1, 0, 0, 0, 0, 1, 0, 0, 0, 0, 0, 0, 0, 1, 0, 0, 0, 0, 0, 1, 0, 0, 0, 0, 0, 0, 0, 0, 0, 0]\n",
            "[0, 0, 0, 0, 0, 0, 0, 0, 0, 2, 0, 0, 0, 0, 0, 0, 0, 0, 0, 1, 0, 1, 0, 0, 0, 0, 0, 0, 0, 0, 0, 0, 1, 1, 1, 1, 0, 0, 0, 0, 0, 0, 0, 0, 0, 0, 0, 0, 0, 0, 0, 0, 0, 0, 0, 0, 0, 0, 0, 0, 0, 0, 0, 1, 0, 0, 0, 0, 0, 0, 1, 0, 0, 0, 0, 0, 0, 0, 0, 0, 0, 0, 0, 0, 0, 0, 0, 0, 1, 0, 0, 0, 0, 0, 0, 1, 0, 0, 0, 0, 0, 0]\n",
            "[0, 1, 0, 0, 1, 0, 0, 0, 0, 0, 0, 0, 0, 0, 1, 0, 0, 0, 0, 0, 0, 0, 0, 0, 0, 0, 0, 0, 0, 0, 0, 0, 0, 0, 1, 0, 0, 0, 0, 0, 0, 0, 0, 0, 0, 1, 0, 0, 1, 0, 0, 0, 0, 0, 0, 0, 0, 0, 0, 0, 1, 0, 0, 0, 0, 0, 0, 0, 0, 0, 0, 0, 1, 0, 0, 0, 0, 1, 0, 0, 0, 0, 0, 0, 0, 1, 0, 0, 0, 0, 0, 1, 0, 0, 0, 0, 0, 0, 0, 0, 0, 0]\n",
            "[0, 0, 0, 0, 0, 0, 0, 0, 0, 0, 0, 0, 0, 0, 0, 1, 1, 0, 0, 0, 0, 0, 0, 0, 1, 0, 0, 0, 0, 1, 0, 0, 0, 0, 1, 0, 1, 0, 0, 0, 0, 0, 0, 0, 0, 0, 0, 0, 0, 1, 0, 0, 0, 1, 1, 0, 0, 0, 0, 0, 0, 0, 0, 0, 0, 0, 0, 0, 0, 0, 0, 0, 0, 0, 0, 0, 0, 0, 0, 1, 0, 0, 0, 0, 0, 0, 0, 0, 0, 0, 0, 0, 0, 0, 0, 0, 0, 0, 0, 0, 0, 0]\n",
            "[0, 1, 0, 0, 0, 0, 1, 0, 0, 0, 1, 0, 0, 0, 0, 0, 0, 0, 0, 0, 0, 0, 0, 0, 0, 0, 0, 0, 0, 0, 0, 0, 0, 0, 1, 0, 0, 0, 0, 0, 0, 0, 0, 1, 0, 0, 0, 0, 1, 0, 0, 0, 1, 0, 0, 0, 1, 1, 0, 0, 0, 0, 0, 0, 0, 0, 0, 0, 0, 0, 0, 0, 0, 0, 0, 0, 1, 0, 0, 0, 0, 0, 0, 0, 0, 0, 0, 0, 0, 0, 0, 0, 0, 0, 0, 0, 0, 0, 0, 0, 0, 0]\n",
            "[0, 0, 0, 0, 0, 1, 0, 0, 1, 0, 0, 0, 0, 0, 0, 0, 0, 0, 0, 0, 0, 0, 0, 1, 0, 0, 0, 0, 0, 0, 0, 0, 1, 0, 1, 0, 0, 0, 0, 0, 1, 0, 0, 0, 0, 0, 0, 0, 0, 0, 0, 0, 0, 0, 0, 0, 0, 0, 0, 0, 0, 0, 0, 0, 0, 0, 0, 0, 1, 0, 0, 0, 0, 0, 0, 0, 0, 0, 0, 0, 1, 0, 0, 1, 0, 0, 0, 0, 0, 0, 0, 0, 0, 0, 0, 0, 0, 0, 0, 0, 0, 0]\n",
            "\n",
            "Inverse Document Frequency:\n",
            "1.3217558399823195\n",
            "1.6094379124341003\n",
            "2.0149030205422647\n",
            "2.0149030205422647\n",
            "2.0149030205422647\n",
            "1.6094379124341003\n",
            "1.6094379124341003\n",
            "2.0149030205422647\n",
            "1.6094379124341003\n",
            "1.6094379124341003\n",
            "1.6094379124341003\n",
            "2.0149030205422647\n",
            "2.0149030205422647\n",
            "2.0149030205422647\n",
            "2.0149030205422647\n",
            "\n",
            "TF-IDF:\n",
            "[1.3217558399823195, 0.0, 0.0, 0.0, 0.0, 0.0, 0.0, 0.0, 0.0, 0.0, 0.0, 0.0, 0.0, 0.0, 0.0, 0.0, 0.0, 0.0, 0.0, 0.0, 0.0, 0.0, 0.0, 0.0, 0.0, 0.0, 0.0, 0.0, 0.0, 0.0, 2.0149030205422647, 0.0, 0.0, 0.0, 0.0, 0.0, 0.0, 2.0149030205422647, 0.0, 2.0149030205422647, 0.0, 0.0, 0.0, 0.0, 0.0, 0.0, 0.0, 0.0, 0.0, 0.0, 0.0, 0.0, 0.0, 0.0, 0.0, 0.0, 0.0, 0.0, 0.0, 2.0149030205422647, 0.0, 2.0149030205422647, 2.0149030205422647, 0.0, 0.0, 0.0, 0.0, 0.0, 0.0, 0.0, 0.0, 0.0, 0.0, 0.0, 0.0, 0.0, 0.0, 0.0, 0.0, 0.0, 0.0, 2.0149030205422647, 0.0, 0.0, 0.0, 0.0, 0.0, 0.0, 0.0, 0.0, 0.0, 0.0, 0.0, 0.0, 0.0, 0.0, 0.0, 0.0, 2.0149030205422647, 2.0149030205422647, 0.0, 2.0149030205422647]\n",
            "[0.0, 0.0, 0.0, 2.0149030205422647, 0.0, 0.0, 0.0, 0.0, 0.0, 0.0, 0.0, 0.0, 0.0, 0.0, 0.0, 0.0, 0.0, 0.0, 0.0, 0.0, 0.0, 0.0, 0.0, 0.0, 0.0, 0.0, 0.0, 1.6094379124341003, 2.0149030205422647, 0.0, 0.0, 0.0, 0.9162907318741551, 0.0, 0.0, 0.0, 0.0, 0.0, 0.0, 0.0, 0.0, 0.0, 0.0, 0.0, 0.0, 0.0, 0.0, 0.0, 0.0, 1.6094379124341003, 0.0, 0.0, 0.0, 0.0, 1.6094379124341003, 0.0, 0.0, 0.0, 0.0, 0.0, 0.0, 0.0, 0.0, 0.0, 2.0149030205422647, 0.0, 0.0, 0.0, 0.0, 0.0, 0.0, 0.0, 0.0, 0.0, 0.0, 2.0149030205422647, 0.0, 0.0, 0.0, 0.0, 0.0, 0.0, 0.0, 0.0, 2.0149030205422647, 0.0, 2.0149030205422647, 0.0, 0.0, 0.0, 0.0, 0.0, 0.0, 0.0, 0.0, 0.0, 2.0149030205422647, 0.0, 0.0, 0.0, 0.0, 0.0]\n",
            "[0.0, 0.0, 0.0, 0.0, 0.0, 0.0, 1.6094379124341003, 0.0, 0.0, 0.0, 1.6094379124341003, 0.0, 0.0, 0.0, 0.0, 0.0, 0.0, 0.0, 0.0, 1.3217558399823195, 0.0, 0.0, 0.0, 0.0, 0.0, 0.0, 0.0, 0.0, 0.0, 0.0, 0.0, 0.0, 0.0, 0.0, 0.0, 0.0, 0.0, 0.0, 0.0, 0.0, 0.0, 0.0, 0.0, 1.6094379124341003, 0.0, 0.0, 0.0, 0.0, 0.0, 0.0, 0.0, 0.0, 1.6094379124341003, 0.0, 0.0, 0.0, 0.0, 0.0, 2.0149030205422647, 0.0, 0.0, 0.0, 0.0, 0.0, 0.0, 0.0, 2.0149030205422647, 0.0, 0.0, 0.0, 0.0, 0.0, 0.0, 0.0, 0.0, 0.0, 1.6094379124341003, 0.0, 0.0, 0.0, 0.0, 0.0, 2.0149030205422647, 0.0, 0.0, 0.0, 0.0, 0.0, 0.0, 0.0, 0.0, 0.0, 0.0, 0.0, 0.0, 0.0, 0.0, 0.0, 0.0, 0.0, 0.0, 0.0]\n",
            "[0.0, 0.0, 0.0, 0.0, 0.0, 0.0, 0.0, 0.0, 0.0, 1.6094379124341003, 0.0, 0.0, 2.0149030205422647, 0.0, 0.0, 0.0, 0.0, 0.0, 0.0, 0.0, 0.0, 1.3217558399823195, 0.0, 0.0, 0.0, 0.0, 0.0, 0.0, 0.0, 0.0, 0.0, 0.0, 0.9162907318741551, 0.0, 0.0, 0.0, 0.0, 0.0, 0.0, 0.0, 0.0, 1.6094379124341003, 0.0, 0.0, 0.0, 0.0, 0.0, 0.0, 0.0, 0.0, 2.0149030205422647, 0.0, 0.0, 0.0, 0.0, 0.0, 0.0, 0.0, 0.0, 0.0, 0.0, 0.0, 0.0, 1.0986122886681098, 0.0, 0.0, 0.0, 0.0, 0.0, 0.0, 0.0, 0.0, 0.0, 2.0149030205422647, 0.0, 0.0, 0.0, 0.0, 0.0, 0.0, 0.0, 0.0, 0.0, 0.0, 0.0, 0.0, 0.0, 0.0, 0.0, 0.0, 0.0, 0.0, 0.0, 0.0, 0.0, 0.0, 0.0, 0.0, 0.0, 0.0, 0.0, 0.0]\n",
            "[0.0, 0.0, 4.029806041084529, 0.0, 0.0, 0.0, 0.0, 0.0, 0.0, 0.0, 0.0, 2.0149030205422647, 0.0, 0.0, 0.0, 0.0, 0.0, 0.0, 0.0, 1.3217558399823195, 2.0149030205422647, 0.0, 0.0, 0.0, 0.0, 0.0, 0.0, 0.0, 0.0, 0.0, 0.0, 0.0, 0.0, 0.0, 0.0, 0.0, 0.0, 0.0, 0.0, 0.0, 0.0, 0.0, 1.6094379124341003, 0.0, 2.0149030205422647, 0.0, 0.0, 0.0, 0.0, 0.0, 0.0, 2.0149030205422647, 0.0, 0.0, 0.0, 0.0, 0.0, 0.0, 0.0, 0.0, 0.0, 0.0, 0.0, 0.0, 0.0, 0.0, 0.0, 0.0, 0.0, 0.0, 0.0, 0.0, 0.0, 0.0, 2.0149030205422647, 0.0, 0.0, 0.0, 0.0, 0.0, 0.0, 0.0, 0.0, 0.0, 0.0, 0.0, 0.0, 2.0149030205422647, 0.0, 2.0149030205422647, 2.0149030205422647, 0.0, 0.0, 0.0, 0.0, 0.0, 0.0, 0.0, 0.0, 0.0, 2.0149030205422647, 0.0]\n",
            "[0.0, 0.0, 0.0, 0.0, 0.0, 0.0, 0.0, 0.0, 0.0, 0.0, 0.0, 0.0, 0.0, 0.0, 0.0, 0.0, 0.0, 0.0, 0.0, 0.0, 0.0, 2.643511679964639, 0.0, 0.0, 0.0, 0.0, 0.0, 1.6094379124341003, 0.0, 0.0, 0.0, 0.0, 0.0, 0.0, 0.0, 0.0, 0.0, 0.0, 0.0, 0.0, 0.0, 3.2188758248682006, 0.0, 0.0, 0.0, 0.0, 0.0, 2.0149030205422647, 0.0, 0.0, 0.0, 0.0, 0.0, 0.0, 0.0, 0.0, 0.0, 0.0, 0.0, 0.0, 0.0, 0.0, 0.0, 1.0986122886681098, 0.0, 0.0, 0.0, 0.0, 0.0, 2.0149030205422647, 0.0, 2.0149030205422647, 0.0, 0.0, 0.0, 0.0, 0.0, 0.0, 0.0, 0.0, 1.6094379124341003, 0.0, 0.0, 0.0, 0.0, 0.0, 0.0, 0.0, 0.0, 0.0, 0.0, 0.0, 0.0, 0.0, 0.0, 0.0, 0.0, 0.0, 0.0, 0.0, 0.0, 0.0]\n",
            "[1.3217558399823195, 0.0, 0.0, 0.0, 0.0, 0.0, 0.0, 0.0, 0.0, 0.0, 0.0, 0.0, 0.0, 0.0, 0.0, 0.0, 0.0, 0.0, 0.0, 0.0, 0.0, 0.0, 2.0149030205422647, 0.0, 0.0, 0.0, 0.0, 0.0, 0.0, 0.0, 0.0, 0.0, 0.0, 0.0, 0.0, 0.0, 0.0, 0.0, 2.0149030205422647, 0.0, 0.0, 0.0, 0.0, 0.0, 0.0, 0.0, 2.0149030205422647, 0.0, 0.0, 0.0, 0.0, 0.0, 0.0, 0.0, 0.0, 0.0, 0.0, 0.0, 0.0, 0.0, 0.0, 0.0, 0.0, 0.0, 0.0, 0.0, 0.0, 2.0149030205422647, 0.0, 0.0, 0.0, 0.0, 0.0, 0.0, 0.0, 0.0, 0.0, 0.0, 0.0, 0.0, 0.0, 0.0, 0.0, 0.0, 0.0, 0.0, 0.0, 0.0, 0.0, 0.0, 0.0, 0.0, 2.0149030205422647, 2.0149030205422647, 2.0149030205422647, 0.0, 0.0, 0.0, 0.0, 0.0, 0.0, 0.0]\n",
            "[0.0, 0.0, 0.0, 0.0, 0.0, 0.0, 0.0, 0.0, 0.0, 0.0, 0.0, 0.0, 0.0, 2.0149030205422647, 0.0, 0.0, 0.0, 0.0, 0.0, 0.0, 0.0, 0.0, 0.0, 1.6094379124341003, 0.0, 2.0149030205422647, 2.0149030205422647, 0.0, 0.0, 0.0, 0.0, 2.0149030205422647, 0.0, 0.0, 0.0, 0.0, 0.0, 0.0, 0.0, 0.0, 0.0, 0.0, 1.6094379124341003, 0.0, 0.0, 0.0, 0.0, 0.0, 0.0, 0.0, 0.0, 0.0, 0.0, 0.0, 0.0, 0.0, 0.0, 0.0, 0.0, 0.0, 0.0, 0.0, 0.0, 0.0, 0.0, 1.6094379124341003, 0.0, 0.0, 0.0, 0.0, 0.0, 0.0, 0.0, 0.0, 0.0, 0.0, 0.0, 0.0, 2.0149030205422647, 0.0, 0.0, 0.0, 0.0, 0.0, 0.0, 0.0, 0.0, 0.0, 0.0, 0.0, 0.0, 0.0, 0.0, 0.0, 0.0, 0.0, 0.0, 2.0149030205422647, 0.0, 0.0, 0.0, 0.0]\n",
            "[1.3217558399823195, 0.0, 0.0, 0.0, 0.0, 1.6094379124341003, 0.0, 0.0, 1.6094379124341003, 0.0, 0.0, 0.0, 0.0, 0.0, 0.0, 0.0, 0.0, 0.0, 0.0, 0.0, 0.0, 0.0, 0.0, 0.0, 0.0, 0.0, 0.0, 0.0, 0.0, 0.0, 0.0, 0.0, 1.8325814637483102, 0.0, 0.0, 0.0, 0.0, 0.0, 0.0, 0.0, 1.6094379124341003, 0.0, 0.0, 0.0, 0.0, 0.0, 0.0, 0.0, 0.0, 0.0, 0.0, 0.0, 0.0, 0.0, 0.0, 0.0, 0.0, 0.0, 0.0, 0.0, 0.0, 0.0, 0.0, 0.0, 0.0, 1.6094379124341003, 0.0, 0.0, 1.6094379124341003, 0.0, 0.0, 0.0, 0.0, 0.0, 0.0, 0.0, 0.0, 0.0, 0.0, 0.0, 0.0, 0.0, 0.0, 0.0, 0.0, 0.0, 0.0, 0.0, 0.0, 0.0, 0.0, 0.0, 0.0, 0.0, 0.0, 0.0, 0.0, 0.0, 0.0, 0.0, 0.0, 0.0]\n",
            "[0.0, 0.0, 0.0, 0.0, 0.0, 0.0, 0.0, 2.0149030205422647, 0.0, 0.0, 0.0, 0.0, 0.0, 0.0, 0.0, 0.0, 0.0, 2.0149030205422647, 2.0149030205422647, 0.0, 0.0, 0.0, 0.0, 0.0, 0.0, 0.0, 0.0, 0.0, 0.0, 0.0, 0.0, 0.0, 0.0, 0.0, 0.0, 0.0, 0.0, 0.0, 0.0, 0.0, 0.0, 0.0, 0.0, 0.0, 0.0, 1.6094379124341003, 0.0, 0.0, 0.0, 0.0, 0.0, 0.0, 0.0, 0.0, 0.0, 2.0149030205422647, 0.0, 1.6094379124341003, 0.0, 0.0, 1.6094379124341003, 0.0, 0.0, 1.0986122886681098, 0.0, 0.0, 0.0, 0.0, 0.0, 0.0, 0.0, 0.0, 1.6094379124341003, 0.0, 0.0, 0.0, 0.0, 1.6094379124341003, 0.0, 0.0, 0.0, 0.0, 0.0, 0.0, 0.0, 1.6094379124341003, 0.0, 0.0, 0.0, 0.0, 0.0, 1.6094379124341003, 0.0, 0.0, 0.0, 0.0, 0.0, 0.0, 0.0, 0.0, 0.0, 0.0]\n",
            "[0.0, 0.0, 0.0, 0.0, 0.0, 0.0, 0.0, 0.0, 0.0, 3.2188758248682006, 0.0, 0.0, 0.0, 0.0, 0.0, 0.0, 0.0, 0.0, 0.0, 1.3217558399823195, 0.0, 1.3217558399823195, 0.0, 0.0, 0.0, 0.0, 0.0, 0.0, 0.0, 0.0, 0.0, 0.0, 0.9162907318741551, 2.0149030205422647, 0.0, 2.0149030205422647, 0.0, 0.0, 0.0, 0.0, 0.0, 0.0, 0.0, 0.0, 0.0, 0.0, 0.0, 0.0, 0.0, 0.0, 0.0, 0.0, 0.0, 0.0, 0.0, 0.0, 0.0, 0.0, 0.0, 0.0, 0.0, 0.0, 0.0, 1.0986122886681098, 0.0, 0.0, 0.0, 0.0, 0.0, 0.0, 2.0149030205422647, 0.0, 0.0, 0.0, 0.0, 0.0, 0.0, 0.0, 0.0, 0.0, 0.0, 0.0, 0.0, 0.0, 0.0, 0.0, 0.0, 0.0, 2.0149030205422647, 0.0, 0.0, 0.0, 0.0, 0.0, 0.0, 2.0149030205422647, 0.0, 0.0, 0.0, 0.0, 0.0, 0.0]\n",
            "[0.0, 1.6094379124341003, 0.0, 0.0, 2.0149030205422647, 0.0, 0.0, 0.0, 0.0, 0.0, 0.0, 0.0, 0.0, 0.0, 2.0149030205422647, 0.0, 0.0, 0.0, 0.0, 0.0, 0.0, 0.0, 0.0, 0.0, 0.0, 0.0, 0.0, 0.0, 0.0, 0.0, 0.0, 0.0, 0.0, 0.0, 0.0, 0.0, 0.0, 0.0, 0.0, 0.0, 0.0, 0.0, 0.0, 0.0, 0.0, 1.6094379124341003, 0.0, 0.0, 1.6094379124341003, 0.0, 0.0, 0.0, 0.0, 0.0, 0.0, 0.0, 0.0, 0.0, 0.0, 0.0, 1.6094379124341003, 0.0, 0.0, 0.0, 0.0, 0.0, 0.0, 0.0, 0.0, 0.0, 0.0, 0.0, 1.6094379124341003, 0.0, 0.0, 0.0, 0.0, 1.6094379124341003, 0.0, 0.0, 0.0, 0.0, 0.0, 0.0, 0.0, 1.6094379124341003, 0.0, 0.0, 0.0, 0.0, 0.0, 1.6094379124341003, 0.0, 0.0, 0.0, 0.0, 0.0, 0.0, 0.0, 0.0, 0.0, 0.0]\n",
            "[0.0, 0.0, 0.0, 0.0, 0.0, 0.0, 0.0, 0.0, 0.0, 0.0, 0.0, 0.0, 0.0, 0.0, 0.0, 2.0149030205422647, 2.0149030205422647, 0.0, 0.0, 0.0, 0.0, 0.0, 0.0, 0.0, 2.0149030205422647, 0.0, 0.0, 0.0, 0.0, 2.0149030205422647, 0.0, 0.0, 0.0, 0.0, 0.0, 0.0, 2.0149030205422647, 0.0, 0.0, 0.0, 0.0, 0.0, 0.0, 0.0, 0.0, 0.0, 0.0, 0.0, 0.0, 1.6094379124341003, 0.0, 0.0, 0.0, 2.0149030205422647, 1.6094379124341003, 0.0, 0.0, 0.0, 0.0, 0.0, 0.0, 0.0, 0.0, 0.0, 0.0, 0.0, 0.0, 0.0, 0.0, 0.0, 0.0, 0.0, 0.0, 0.0, 0.0, 0.0, 0.0, 0.0, 0.0, 2.0149030205422647, 0.0, 0.0, 0.0, 0.0, 0.0, 0.0, 0.0, 0.0, 0.0, 0.0, 0.0, 0.0, 0.0, 0.0, 0.0, 0.0, 0.0, 0.0, 0.0, 0.0, 0.0, 0.0]\n",
            "[0.0, 1.6094379124341003, 0.0, 0.0, 0.0, 0.0, 1.6094379124341003, 0.0, 0.0, 0.0, 1.6094379124341003, 0.0, 0.0, 0.0, 0.0, 0.0, 0.0, 0.0, 0.0, 0.0, 0.0, 0.0, 0.0, 0.0, 0.0, 0.0, 0.0, 0.0, 0.0, 0.0, 0.0, 0.0, 0.0, 0.0, 0.0, 0.0, 0.0, 0.0, 0.0, 0.0, 0.0, 0.0, 0.0, 1.6094379124341003, 0.0, 0.0, 0.0, 0.0, 1.6094379124341003, 0.0, 0.0, 0.0, 1.6094379124341003, 0.0, 0.0, 0.0, 2.0149030205422647, 1.6094379124341003, 0.0, 0.0, 0.0, 0.0, 0.0, 0.0, 0.0, 0.0, 0.0, 0.0, 0.0, 0.0, 0.0, 0.0, 0.0, 0.0, 0.0, 0.0, 1.6094379124341003, 0.0, 0.0, 0.0, 0.0, 0.0, 0.0, 0.0, 0.0, 0.0, 0.0, 0.0, 0.0, 0.0, 0.0, 0.0, 0.0, 0.0, 0.0, 0.0, 0.0, 0.0, 0.0, 0.0, 0.0, 0.0]\n",
            "[0.0, 0.0, 0.0, 0.0, 0.0, 1.6094379124341003, 0.0, 0.0, 1.6094379124341003, 0.0, 0.0, 0.0, 0.0, 0.0, 0.0, 0.0, 0.0, 0.0, 0.0, 0.0, 0.0, 0.0, 0.0, 1.6094379124341003, 0.0, 0.0, 0.0, 0.0, 0.0, 0.0, 0.0, 0.0, 0.9162907318741551, 0.0, 0.0, 0.0, 0.0, 0.0, 0.0, 0.0, 1.6094379124341003, 0.0, 0.0, 0.0, 0.0, 0.0, 0.0, 0.0, 0.0, 0.0, 0.0, 0.0, 0.0, 0.0, 0.0, 0.0, 0.0, 0.0, 0.0, 0.0, 0.0, 0.0, 0.0, 0.0, 0.0, 0.0, 0.0, 0.0, 1.6094379124341003, 0.0, 0.0, 0.0, 0.0, 0.0, 0.0, 0.0, 0.0, 0.0, 0.0, 0.0, 1.6094379124341003, 0.0, 0.0, 2.0149030205422647, 0.0, 0.0, 0.0, 0.0, 0.0, 0.0, 0.0, 0.0, 0.0, 0.0, 0.0, 0.0, 0.0, 0.0, 0.0, 0.0, 0.0, 0.0]\n",
            "\n",
            "\n",
            "TF-IDF Vector for Document 1: [1.3217558399823195, 0.0, 0.0, 0.0, 0.0, 0.0, 0.0, 0.0, 0.0, 0.0, 0.0, 0.0, 0.0, 0.0, 0.0, 0.0, 0.0, 0.0, 0.0, 0.0, 0.0, 0.0, 0.0, 0.0, 0.0, 0.0, 0.0, 0.0, 0.0, 0.0, 2.0149030205422647, 0.0, 0.0, 0.0, 0.0, 0.0, 0.0, 2.0149030205422647, 0.0, 2.0149030205422647, 0.0, 0.0, 0.0, 0.0, 0.0, 0.0, 0.0, 0.0, 0.0, 0.0, 0.0, 0.0, 0.0, 0.0, 0.0, 0.0, 0.0, 0.0, 0.0, 2.0149030205422647, 0.0, 2.0149030205422647, 2.0149030205422647, 0.0, 0.0, 0.0, 0.0, 0.0, 0.0, 0.0, 0.0, 0.0, 0.0, 0.0, 0.0, 0.0, 0.0, 0.0, 0.0, 0.0, 0.0, 2.0149030205422647, 0.0, 0.0, 0.0, 0.0, 0.0, 0.0, 0.0, 0.0, 0.0, 0.0, 0.0, 0.0, 0.0, 0.0, 0.0, 0.0, 2.0149030205422647, 2.0149030205422647, 0.0, 2.0149030205422647]\n",
            "TF-IDF Vector for Document 2: [0.0, 0.0, 0.0, 2.0149030205422647, 0.0, 0.0, 0.0, 0.0, 0.0, 0.0, 0.0, 0.0, 0.0, 0.0, 0.0, 0.0, 0.0, 0.0, 0.0, 0.0, 0.0, 0.0, 0.0, 0.0, 0.0, 0.0, 0.0, 1.6094379124341003, 2.0149030205422647, 0.0, 0.0, 0.0, 0.9162907318741551, 0.0, 0.0, 0.0, 0.0, 0.0, 0.0, 0.0, 0.0, 0.0, 0.0, 0.0, 0.0, 0.0, 0.0, 0.0, 0.0, 1.6094379124341003, 0.0, 0.0, 0.0, 0.0, 1.6094379124341003, 0.0, 0.0, 0.0, 0.0, 0.0, 0.0, 0.0, 0.0, 0.0, 2.0149030205422647, 0.0, 0.0, 0.0, 0.0, 0.0, 0.0, 0.0, 0.0, 0.0, 0.0, 2.0149030205422647, 0.0, 0.0, 0.0, 0.0, 0.0, 0.0, 0.0, 0.0, 2.0149030205422647, 0.0, 2.0149030205422647, 0.0, 0.0, 0.0, 0.0, 0.0, 0.0, 0.0, 0.0, 0.0, 2.0149030205422647, 0.0, 0.0, 0.0, 0.0, 0.0]\n",
            "TF-IDF Vector for Document 3: [0.0, 0.0, 0.0, 0.0, 0.0, 0.0, 1.6094379124341003, 0.0, 0.0, 0.0, 1.6094379124341003, 0.0, 0.0, 0.0, 0.0, 0.0, 0.0, 0.0, 0.0, 1.3217558399823195, 0.0, 0.0, 0.0, 0.0, 0.0, 0.0, 0.0, 0.0, 0.0, 0.0, 0.0, 0.0, 0.0, 0.0, 0.0, 0.0, 0.0, 0.0, 0.0, 0.0, 0.0, 0.0, 0.0, 1.6094379124341003, 0.0, 0.0, 0.0, 0.0, 0.0, 0.0, 0.0, 0.0, 1.6094379124341003, 0.0, 0.0, 0.0, 0.0, 0.0, 2.0149030205422647, 0.0, 0.0, 0.0, 0.0, 0.0, 0.0, 0.0, 2.0149030205422647, 0.0, 0.0, 0.0, 0.0, 0.0, 0.0, 0.0, 0.0, 0.0, 1.6094379124341003, 0.0, 0.0, 0.0, 0.0, 0.0, 2.0149030205422647, 0.0, 0.0, 0.0, 0.0, 0.0, 0.0, 0.0, 0.0, 0.0, 0.0, 0.0, 0.0, 0.0, 0.0, 0.0, 0.0, 0.0, 0.0, 0.0]\n",
            "TF-IDF Vector for Document 4: [0.0, 0.0, 0.0, 0.0, 0.0, 0.0, 0.0, 0.0, 0.0, 1.6094379124341003, 0.0, 0.0, 2.0149030205422647, 0.0, 0.0, 0.0, 0.0, 0.0, 0.0, 0.0, 0.0, 1.3217558399823195, 0.0, 0.0, 0.0, 0.0, 0.0, 0.0, 0.0, 0.0, 0.0, 0.0, 0.9162907318741551, 0.0, 0.0, 0.0, 0.0, 0.0, 0.0, 0.0, 0.0, 1.6094379124341003, 0.0, 0.0, 0.0, 0.0, 0.0, 0.0, 0.0, 0.0, 2.0149030205422647, 0.0, 0.0, 0.0, 0.0, 0.0, 0.0, 0.0, 0.0, 0.0, 0.0, 0.0, 0.0, 1.0986122886681098, 0.0, 0.0, 0.0, 0.0, 0.0, 0.0, 0.0, 0.0, 0.0, 2.0149030205422647, 0.0, 0.0, 0.0, 0.0, 0.0, 0.0, 0.0, 0.0, 0.0, 0.0, 0.0, 0.0, 0.0, 0.0, 0.0, 0.0, 0.0, 0.0, 0.0, 0.0, 0.0, 0.0, 0.0, 0.0, 0.0, 0.0, 0.0, 0.0]\n",
            "TF-IDF Vector for Document 5: [0.0, 0.0, 4.029806041084529, 0.0, 0.0, 0.0, 0.0, 0.0, 0.0, 0.0, 0.0, 2.0149030205422647, 0.0, 0.0, 0.0, 0.0, 0.0, 0.0, 0.0, 1.3217558399823195, 2.0149030205422647, 0.0, 0.0, 0.0, 0.0, 0.0, 0.0, 0.0, 0.0, 0.0, 0.0, 0.0, 0.0, 0.0, 0.0, 0.0, 0.0, 0.0, 0.0, 0.0, 0.0, 0.0, 1.6094379124341003, 0.0, 2.0149030205422647, 0.0, 0.0, 0.0, 0.0, 0.0, 0.0, 2.0149030205422647, 0.0, 0.0, 0.0, 0.0, 0.0, 0.0, 0.0, 0.0, 0.0, 0.0, 0.0, 0.0, 0.0, 0.0, 0.0, 0.0, 0.0, 0.0, 0.0, 0.0, 0.0, 0.0, 2.0149030205422647, 0.0, 0.0, 0.0, 0.0, 0.0, 0.0, 0.0, 0.0, 0.0, 0.0, 0.0, 0.0, 2.0149030205422647, 0.0, 2.0149030205422647, 2.0149030205422647, 0.0, 0.0, 0.0, 0.0, 0.0, 0.0, 0.0, 0.0, 0.0, 2.0149030205422647, 0.0]\n",
            "TF-IDF Vector for Document 6: [0.0, 0.0, 0.0, 0.0, 0.0, 0.0, 0.0, 0.0, 0.0, 0.0, 0.0, 0.0, 0.0, 0.0, 0.0, 0.0, 0.0, 0.0, 0.0, 0.0, 0.0, 2.643511679964639, 0.0, 0.0, 0.0, 0.0, 0.0, 1.6094379124341003, 0.0, 0.0, 0.0, 0.0, 0.0, 0.0, 0.0, 0.0, 0.0, 0.0, 0.0, 0.0, 0.0, 3.2188758248682006, 0.0, 0.0, 0.0, 0.0, 0.0, 2.0149030205422647, 0.0, 0.0, 0.0, 0.0, 0.0, 0.0, 0.0, 0.0, 0.0, 0.0, 0.0, 0.0, 0.0, 0.0, 0.0, 1.0986122886681098, 0.0, 0.0, 0.0, 0.0, 0.0, 2.0149030205422647, 0.0, 2.0149030205422647, 0.0, 0.0, 0.0, 0.0, 0.0, 0.0, 0.0, 0.0, 1.6094379124341003, 0.0, 0.0, 0.0, 0.0, 0.0, 0.0, 0.0, 0.0, 0.0, 0.0, 0.0, 0.0, 0.0, 0.0, 0.0, 0.0, 0.0, 0.0, 0.0, 0.0, 0.0]\n",
            "TF-IDF Vector for Document 7: [1.3217558399823195, 0.0, 0.0, 0.0, 0.0, 0.0, 0.0, 0.0, 0.0, 0.0, 0.0, 0.0, 0.0, 0.0, 0.0, 0.0, 0.0, 0.0, 0.0, 0.0, 0.0, 0.0, 2.0149030205422647, 0.0, 0.0, 0.0, 0.0, 0.0, 0.0, 0.0, 0.0, 0.0, 0.0, 0.0, 0.0, 0.0, 0.0, 0.0, 2.0149030205422647, 0.0, 0.0, 0.0, 0.0, 0.0, 0.0, 0.0, 2.0149030205422647, 0.0, 0.0, 0.0, 0.0, 0.0, 0.0, 0.0, 0.0, 0.0, 0.0, 0.0, 0.0, 0.0, 0.0, 0.0, 0.0, 0.0, 0.0, 0.0, 0.0, 2.0149030205422647, 0.0, 0.0, 0.0, 0.0, 0.0, 0.0, 0.0, 0.0, 0.0, 0.0, 0.0, 0.0, 0.0, 0.0, 0.0, 0.0, 0.0, 0.0, 0.0, 0.0, 0.0, 0.0, 0.0, 0.0, 2.0149030205422647, 2.0149030205422647, 2.0149030205422647, 0.0, 0.0, 0.0, 0.0, 0.0, 0.0, 0.0]\n",
            "TF-IDF Vector for Document 8: [0.0, 0.0, 0.0, 0.0, 0.0, 0.0, 0.0, 0.0, 0.0, 0.0, 0.0, 0.0, 0.0, 2.0149030205422647, 0.0, 0.0, 0.0, 0.0, 0.0, 0.0, 0.0, 0.0, 0.0, 1.6094379124341003, 0.0, 2.0149030205422647, 2.0149030205422647, 0.0, 0.0, 0.0, 0.0, 2.0149030205422647, 0.0, 0.0, 0.0, 0.0, 0.0, 0.0, 0.0, 0.0, 0.0, 0.0, 1.6094379124341003, 0.0, 0.0, 0.0, 0.0, 0.0, 0.0, 0.0, 0.0, 0.0, 0.0, 0.0, 0.0, 0.0, 0.0, 0.0, 0.0, 0.0, 0.0, 0.0, 0.0, 0.0, 0.0, 1.6094379124341003, 0.0, 0.0, 0.0, 0.0, 0.0, 0.0, 0.0, 0.0, 0.0, 0.0, 0.0, 0.0, 2.0149030205422647, 0.0, 0.0, 0.0, 0.0, 0.0, 0.0, 0.0, 0.0, 0.0, 0.0, 0.0, 0.0, 0.0, 0.0, 0.0, 0.0, 0.0, 0.0, 2.0149030205422647, 0.0, 0.0, 0.0, 0.0]\n",
            "TF-IDF Vector for Document 9: [1.3217558399823195, 0.0, 0.0, 0.0, 0.0, 1.6094379124341003, 0.0, 0.0, 1.6094379124341003, 0.0, 0.0, 0.0, 0.0, 0.0, 0.0, 0.0, 0.0, 0.0, 0.0, 0.0, 0.0, 0.0, 0.0, 0.0, 0.0, 0.0, 0.0, 0.0, 0.0, 0.0, 0.0, 0.0, 1.8325814637483102, 0.0, 0.0, 0.0, 0.0, 0.0, 0.0, 0.0, 1.6094379124341003, 0.0, 0.0, 0.0, 0.0, 0.0, 0.0, 0.0, 0.0, 0.0, 0.0, 0.0, 0.0, 0.0, 0.0, 0.0, 0.0, 0.0, 0.0, 0.0, 0.0, 0.0, 0.0, 0.0, 0.0, 1.6094379124341003, 0.0, 0.0, 1.6094379124341003, 0.0, 0.0, 0.0, 0.0, 0.0, 0.0, 0.0, 0.0, 0.0, 0.0, 0.0, 0.0, 0.0, 0.0, 0.0, 0.0, 0.0, 0.0, 0.0, 0.0, 0.0, 0.0, 0.0, 0.0, 0.0, 0.0, 0.0, 0.0, 0.0, 0.0, 0.0, 0.0, 0.0]\n",
            "TF-IDF Vector for Document 10: [0.0, 0.0, 0.0, 0.0, 0.0, 0.0, 0.0, 2.0149030205422647, 0.0, 0.0, 0.0, 0.0, 0.0, 0.0, 0.0, 0.0, 0.0, 2.0149030205422647, 2.0149030205422647, 0.0, 0.0, 0.0, 0.0, 0.0, 0.0, 0.0, 0.0, 0.0, 0.0, 0.0, 0.0, 0.0, 0.0, 0.0, 0.0, 0.0, 0.0, 0.0, 0.0, 0.0, 0.0, 0.0, 0.0, 0.0, 0.0, 1.6094379124341003, 0.0, 0.0, 0.0, 0.0, 0.0, 0.0, 0.0, 0.0, 0.0, 2.0149030205422647, 0.0, 1.6094379124341003, 0.0, 0.0, 1.6094379124341003, 0.0, 0.0, 1.0986122886681098, 0.0, 0.0, 0.0, 0.0, 0.0, 0.0, 0.0, 0.0, 1.6094379124341003, 0.0, 0.0, 0.0, 0.0, 1.6094379124341003, 0.0, 0.0, 0.0, 0.0, 0.0, 0.0, 0.0, 1.6094379124341003, 0.0, 0.0, 0.0, 0.0, 0.0, 1.6094379124341003, 0.0, 0.0, 0.0, 0.0, 0.0, 0.0, 0.0, 0.0, 0.0, 0.0]\n",
            "TF-IDF Vector for Document 11: [0.0, 0.0, 0.0, 0.0, 0.0, 0.0, 0.0, 0.0, 0.0, 3.2188758248682006, 0.0, 0.0, 0.0, 0.0, 0.0, 0.0, 0.0, 0.0, 0.0, 1.3217558399823195, 0.0, 1.3217558399823195, 0.0, 0.0, 0.0, 0.0, 0.0, 0.0, 0.0, 0.0, 0.0, 0.0, 0.9162907318741551, 2.0149030205422647, 0.0, 2.0149030205422647, 0.0, 0.0, 0.0, 0.0, 0.0, 0.0, 0.0, 0.0, 0.0, 0.0, 0.0, 0.0, 0.0, 0.0, 0.0, 0.0, 0.0, 0.0, 0.0, 0.0, 0.0, 0.0, 0.0, 0.0, 0.0, 0.0, 0.0, 1.0986122886681098, 0.0, 0.0, 0.0, 0.0, 0.0, 0.0, 2.0149030205422647, 0.0, 0.0, 0.0, 0.0, 0.0, 0.0, 0.0, 0.0, 0.0, 0.0, 0.0, 0.0, 0.0, 0.0, 0.0, 0.0, 0.0, 2.0149030205422647, 0.0, 0.0, 0.0, 0.0, 0.0, 0.0, 2.0149030205422647, 0.0, 0.0, 0.0, 0.0, 0.0, 0.0]\n",
            "TF-IDF Vector for Document 12: [0.0, 1.6094379124341003, 0.0, 0.0, 2.0149030205422647, 0.0, 0.0, 0.0, 0.0, 0.0, 0.0, 0.0, 0.0, 0.0, 2.0149030205422647, 0.0, 0.0, 0.0, 0.0, 0.0, 0.0, 0.0, 0.0, 0.0, 0.0, 0.0, 0.0, 0.0, 0.0, 0.0, 0.0, 0.0, 0.0, 0.0, 0.0, 0.0, 0.0, 0.0, 0.0, 0.0, 0.0, 0.0, 0.0, 0.0, 0.0, 1.6094379124341003, 0.0, 0.0, 1.6094379124341003, 0.0, 0.0, 0.0, 0.0, 0.0, 0.0, 0.0, 0.0, 0.0, 0.0, 0.0, 1.6094379124341003, 0.0, 0.0, 0.0, 0.0, 0.0, 0.0, 0.0, 0.0, 0.0, 0.0, 0.0, 1.6094379124341003, 0.0, 0.0, 0.0, 0.0, 1.6094379124341003, 0.0, 0.0, 0.0, 0.0, 0.0, 0.0, 0.0, 1.6094379124341003, 0.0, 0.0, 0.0, 0.0, 0.0, 1.6094379124341003, 0.0, 0.0, 0.0, 0.0, 0.0, 0.0, 0.0, 0.0, 0.0, 0.0]\n",
            "TF-IDF Vector for Document 13: [0.0, 0.0, 0.0, 0.0, 0.0, 0.0, 0.0, 0.0, 0.0, 0.0, 0.0, 0.0, 0.0, 0.0, 0.0, 2.0149030205422647, 2.0149030205422647, 0.0, 0.0, 0.0, 0.0, 0.0, 0.0, 0.0, 2.0149030205422647, 0.0, 0.0, 0.0, 0.0, 2.0149030205422647, 0.0, 0.0, 0.0, 0.0, 0.0, 0.0, 2.0149030205422647, 0.0, 0.0, 0.0, 0.0, 0.0, 0.0, 0.0, 0.0, 0.0, 0.0, 0.0, 0.0, 1.6094379124341003, 0.0, 0.0, 0.0, 2.0149030205422647, 1.6094379124341003, 0.0, 0.0, 0.0, 0.0, 0.0, 0.0, 0.0, 0.0, 0.0, 0.0, 0.0, 0.0, 0.0, 0.0, 0.0, 0.0, 0.0, 0.0, 0.0, 0.0, 0.0, 0.0, 0.0, 0.0, 2.0149030205422647, 0.0, 0.0, 0.0, 0.0, 0.0, 0.0, 0.0, 0.0, 0.0, 0.0, 0.0, 0.0, 0.0, 0.0, 0.0, 0.0, 0.0, 0.0, 0.0, 0.0, 0.0, 0.0]\n",
            "TF-IDF Vector for Document 14: [0.0, 1.6094379124341003, 0.0, 0.0, 0.0, 0.0, 1.6094379124341003, 0.0, 0.0, 0.0, 1.6094379124341003, 0.0, 0.0, 0.0, 0.0, 0.0, 0.0, 0.0, 0.0, 0.0, 0.0, 0.0, 0.0, 0.0, 0.0, 0.0, 0.0, 0.0, 0.0, 0.0, 0.0, 0.0, 0.0, 0.0, 0.0, 0.0, 0.0, 0.0, 0.0, 0.0, 0.0, 0.0, 0.0, 1.6094379124341003, 0.0, 0.0, 0.0, 0.0, 1.6094379124341003, 0.0, 0.0, 0.0, 1.6094379124341003, 0.0, 0.0, 0.0, 2.0149030205422647, 1.6094379124341003, 0.0, 0.0, 0.0, 0.0, 0.0, 0.0, 0.0, 0.0, 0.0, 0.0, 0.0, 0.0, 0.0, 0.0, 0.0, 0.0, 0.0, 0.0, 1.6094379124341003, 0.0, 0.0, 0.0, 0.0, 0.0, 0.0, 0.0, 0.0, 0.0, 0.0, 0.0, 0.0, 0.0, 0.0, 0.0, 0.0, 0.0, 0.0, 0.0, 0.0, 0.0, 0.0, 0.0, 0.0, 0.0]\n",
            "TF-IDF Vector for Document 15: [0.0, 0.0, 0.0, 0.0, 0.0, 1.6094379124341003, 0.0, 0.0, 1.6094379124341003, 0.0, 0.0, 0.0, 0.0, 0.0, 0.0, 0.0, 0.0, 0.0, 0.0, 0.0, 0.0, 0.0, 0.0, 1.6094379124341003, 0.0, 0.0, 0.0, 0.0, 0.0, 0.0, 0.0, 0.0, 0.9162907318741551, 0.0, 0.0, 0.0, 0.0, 0.0, 0.0, 0.0, 1.6094379124341003, 0.0, 0.0, 0.0, 0.0, 0.0, 0.0, 0.0, 0.0, 0.0, 0.0, 0.0, 0.0, 0.0, 0.0, 0.0, 0.0, 0.0, 0.0, 0.0, 0.0, 0.0, 0.0, 0.0, 0.0, 0.0, 0.0, 0.0, 1.6094379124341003, 0.0, 0.0, 0.0, 0.0, 0.0, 0.0, 0.0, 0.0, 0.0, 0.0, 0.0, 1.6094379124341003, 0.0, 0.0, 2.0149030205422647, 0.0, 0.0, 0.0, 0.0, 0.0, 0.0, 0.0, 0.0, 0.0, 0.0, 0.0, 0.0, 0.0, 0.0, 0.0, 0.0, 0.0, 0.0]\n"
          ]
        }
      ],
      "source": [
        "import math\n",
        "\n",
        "# Sample documents\n",
        "documents = review_handphone['review']\n",
        "\n",
        "# Step 1: Tokenization\n",
        "def tokenize(document):\n",
        "    return document.lower().split()\n",
        "\n",
        "# Step 2: Create a vocabulary\n",
        "vocabulary = set()\n",
        "for doc in documents:\n",
        "    vocabulary.update(tokenize(doc))\n",
        "\n",
        "vocabulary = sorted(vocabulary)\n",
        "print(\"Unique Token:\")\n",
        "print(vocabulary)\n",
        "\n",
        "# Step 3: Compute TF (Term Frequency)\n",
        "print(\"\\nIterasi pada setiap data:\")\n",
        "count=1\n",
        "tf_matrix = []\n",
        "for doc in documents:\n",
        "    tokens = tokenize(doc)\n",
        "    tf = [tokens.count(word) for word in vocabulary]\n",
        "    print(\"Data Ke-\",count,\":\",tokens)\n",
        "    tf_matrix.append(tf)\n",
        "    count+=1\n",
        "\n",
        "print(\"\\nTerm Frequency:\")\n",
        "for i in range(len(documents)): print(tf_matrix[i])\n",
        "\n",
        "# Step 4: Compute IDF (Inverse Document Frequency)\n",
        "idf = []\n",
        "N = len(documents)\n",
        "for word in vocabulary:\n",
        "    doc_count = sum([1 for doc in documents if word in tokenize(doc)])\n",
        "    idf.append(math.log(N / (1 + doc_count)))\n",
        "\n",
        "print(\"\\nInverse Document Frequency:\")\n",
        "for i in range(N): print(idf[i])\n",
        "\n",
        "# Step 5: Compute TF-IDF\n",
        "tfidf_matrix = []\n",
        "for tf_vector in tf_matrix:\n",
        "    tfidf = [tf * idf_value for tf, idf_value in zip(tf_vector, idf)]\n",
        "    tfidf_matrix.append(tfidf)\n",
        "\n",
        "print(\"\\nTF-IDF:\")\n",
        "for i in range(N): print(tfidf_matrix[i])\n",
        "print(\"\\n\")\n",
        "\n",
        "# Print the TF-IDF matrix\n",
        "for i, doc in enumerate(documents):\n",
        "    print(f\"TF-IDF Vector for Document {i+1}: {tfidf_matrix[i]}\")\n"
      ]
    },
    {
      "cell_type": "code",
      "execution_count": 35,
      "metadata": {
        "colab": {
          "base_uri": "https://localhost:8080/"
        },
        "id": "tBLfi48x7oX8",
        "outputId": "5f50ad07-7ba8-45fd-a451-b09cddea5dbb"
      },
      "outputs": [
        {
          "name": "stdout",
          "output_type": "stream",
          "text": [
            "TF-IDF features saved to tfidf_features.csv\n"
          ]
        }
      ],
      "source": [
        "import math\n",
        "import csv\n",
        "\n",
        "csv_file_path = 'tfidf_features.csv'\n",
        "\n",
        "# Save the TF-IDF matrix to a CSV file\n",
        "with open(csv_file_path, 'w', newline='') as csvfile:\n",
        "    writer = csv.writer(csvfile)\n",
        "\n",
        "    # Write the header row (vocabulary)\n",
        "    writer.writerow(vocabulary)\n",
        "\n",
        "    # Write each TF-IDF vector as a row\n",
        "    for tfidf_vector in tfidf_matrix:\n",
        "        writer.writerow(tfidf_vector)\n",
        "\n",
        "print(f'TF-IDF features saved to {csv_file_path}')\n"
      ]
    },
    {
      "cell_type": "code",
      "execution_count": null,
      "metadata": {
        "id": "Ytafsk7H7rC_"
      },
      "outputs": [],
      "source": []
    }
  ],
  "metadata": {
    "colab": {
      "provenance": []
    },
    "kernelspec": {
      "display_name": "Python 3",
      "name": "python3"
    },
    "language_info": {
      "codemirror_mode": {
        "name": "ipython",
        "version": 3
      },
      "file_extension": ".py",
      "mimetype": "text/x-python",
      "name": "python",
      "nbconvert_exporter": "python",
      "pygments_lexer": "ipython3",
      "version": "3.9.7"
    }
  },
  "nbformat": 4,
  "nbformat_minor": 0
}
